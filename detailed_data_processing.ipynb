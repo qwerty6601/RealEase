{
 "cells": [
  {
   "cell_type": "code",
   "execution_count": 14,
   "metadata": {},
   "outputs": [],
   "source": [
    "import pandas as pd\n",
    "from pandas import json_normalize"
   ]
  },
  {
   "cell_type": "code",
   "execution_count": 15,
   "metadata": {},
   "outputs": [],
   "source": [
    "# Load the JSON file as a DataFrame\n",
    "property_data_df = pd.read_json(\"Data/random_property_data.json\")"
   ]
  },
  {
   "cell_type": "code",
   "execution_count": 16,
   "metadata": {},
   "outputs": [
    {
     "name": "stdout",
     "output_type": "stream",
     "text": [
      "Index(['abbreviatedAddress', 'address', 'apartmentsForRentInZipcodeSearchUrl',\n",
      "       'attributionInfo', 'bathrooms', 'bedrooms', 'big', 'boroughId',\n",
      "       'boroughSearchUrl', 'brokerId',\n",
      "       ...\n",
      "       'zestimateHighPercent', 'zestimateLowPercent', 'zillowOfferMarket',\n",
      "       'zipPlusFour', 'zipcode', 'zipcodeSearchUrl', 'zoContactSubtitle',\n",
      "       'zoMarketName', 'zoResaleStartAnOfferEnabled', 'zpid'],\n",
      "      dtype='object', length=212)\n"
     ]
    }
   ],
   "source": [
    "print(property_data_df.columns)"
   ]
  },
  {
   "cell_type": "code",
   "execution_count": 248,
   "metadata": {},
   "outputs": [
    {
     "name": "stdout",
     "output_type": "stream",
     "text": [
      "         county       homeType  livingArea livingAreaUnits  lotSize   \n",
      "0  Story County  SINGLE_FAMILY      1404.0     Square Feet     4330  \\\n",
      "1  Story County  SINGLE_FAMILY      2021.0     Square Feet     8001   \n",
      "2  Boone County            LOT         NaN            None    87120   \n",
      "3  Boone County  SINGLE_FAMILY      2215.0     Square Feet    49658   \n",
      "4  Story County  SINGLE_FAMILY      1050.0     Square Feet     8702   \n",
      "\n",
      "  lotAreaUnits                  neighborhoodRegion   \n",
      "0  Square Feet           {'name': 'Oak-Riverside'}  \\\n",
      "1  Square Feet        {'name': 'Somerset Village'}   \n",
      "2        Acres                                None   \n",
      "3        Acres                                None   \n",
      "4  Square Feet  {'name': 'College Creek/Old Ames'}   \n",
      "\n",
      "                                           resoFacts   price   \n",
      "0  {'aboveGradeFinishedArea': '1,404', 'accessibi...  239900  \\\n",
      "1  {'aboveGradeFinishedArea': None, 'accessibilit...  405000   \n",
      "2  {'aboveGradeFinishedArea': None, 'accessibilit...  228000   \n",
      "3  {'aboveGradeFinishedArea': '2,215', 'accessibi...  924900   \n",
      "4  {'aboveGradeFinishedArea': '2,543', 'accessibi...  470000   \n",
      "\n",
      "                                      hiResImageLink  \n",
      "0  https://photos.zillowstatic.com/fp/df0bd099740...  \n",
      "1  https://photos.zillowstatic.com/fp/4f94778f62c...  \n",
      "2  https://photos.zillowstatic.com/fp/17cec68ca0e...  \n",
      "3  https://photos.zillowstatic.com/fp/17839d6b2ae...  \n",
      "4  https://photos.zillowstatic.com/fp/737c4d70a7b...  \n"
     ]
    }
   ],
   "source": [
    "desired_columns = [\n",
    "    'county', 'homeType', 'livingArea', 'livingAreaUnits', 'lotSize', 'lotAreaUnits',\n",
    "    'neighborhoodRegion', 'resoFacts', 'price', 'hiResImageLink'\n",
    "]\n",
    "\n",
    "filtered_property_data_df = property_data_df[desired_columns]\n",
    "\n",
    "print(filtered_property_data_df.head())"
   ]
  },
  {
   "cell_type": "code",
   "execution_count": 249,
   "metadata": {},
   "outputs": [
    {
     "name": "stdout",
     "output_type": "stream",
     "text": [
      "         county       homeType  livingArea livingAreaUnits  lotSize   \n",
      "0  Story County  SINGLE_FAMILY      1404.0     Square Feet     4330  \\\n",
      "1  Story County  SINGLE_FAMILY      2021.0     Square Feet     8001   \n",
      "2  Boone County            LOT         NaN            None    87120   \n",
      "3  Boone County  SINGLE_FAMILY      2215.0     Square Feet    49658   \n",
      "4  Story County  SINGLE_FAMILY      1050.0     Square Feet     8702   \n",
      "\n",
      "  lotAreaUnits   price                                     hiResImageLink   \n",
      "0  Square Feet  239900  https://photos.zillowstatic.com/fp/df0bd099740...  \\\n",
      "1  Square Feet  405000  https://photos.zillowstatic.com/fp/4f94778f62c...   \n",
      "2        Acres  228000  https://photos.zillowstatic.com/fp/17cec68ca0e...   \n",
      "3        Acres  924900  https://photos.zillowstatic.com/fp/17839d6b2ae...   \n",
      "4  Square Feet  470000  https://photos.zillowstatic.com/fp/737c4d70a7b...   \n",
      "\n",
      "  neighborhoodRegion.name resoFacts.aboveGradeFinishedArea  ...   \n",
      "0           Oak-Riverside                            1,404  ...  \\\n",
      "1        Somerset Village                             None  ...   \n",
      "2                     NaN                             None  ...   \n",
      "3                     NaN                            2,215  ...   \n",
      "4  College Creek/Old Ames                            2,543  ...   \n",
      "\n",
      "  resoFacts.waterView resoFacts.waterViewYN resoFacts.waterfrontFeatures   \n",
      "0                None                  None                         None  \\\n",
      "1                None                  None                         None   \n",
      "2                None                  None                         None   \n",
      "3                None                  None                         None   \n",
      "4                None                  None                         None   \n",
      "\n",
      "  resoFacts.windowFeatures resoFacts.woodedArea resoFacts.yearBuilt   \n",
      "0                     None                  NaN              1958.0  \\\n",
      "1                     None                  NaN              2002.0   \n",
      "2                     None                  NaN                 NaN   \n",
      "3                     None                  NaN              2010.0   \n",
      "4                     None                  NaN              1895.0   \n",
      "\n",
      "  resoFacts.yearBuiltEffective resoFacts.zoning resoFacts.zoningDescription   \n",
      "0                         None             None                 Residential  \\\n",
      "1                         None             F-VR                        None   \n",
      "2                         None             Comm                        None   \n",
      "3                         None             None                         Res   \n",
      "4                         None             None             Residential Med   \n",
      "\n",
      "  neighborhoodRegion  \n",
      "0                NaN  \n",
      "1                NaN  \n",
      "2                NaN  \n",
      "3                NaN  \n",
      "4                NaN  \n",
      "\n",
      "[5 rows x 189 columns]\n"
     ]
    }
   ],
   "source": [
    "# Flatten the nested data in the DataFrame\n",
    "flattened_property_data_df = json_normalize(filtered_property_data_df.to_dict(orient=\"records\"))\n",
    "print(flattened_property_data_df.head())"
   ]
  },
  {
   "cell_type": "code",
   "execution_count": 250,
   "metadata": {},
   "outputs": [
    {
     "name": "stdout",
     "output_type": "stream",
     "text": [
      "0     [{'factLabel': 'Type', 'factValue': 'Single Fa...\n",
      "1     [{'factLabel': 'Type', 'factValue': 'Single Fa...\n",
      "2                                                  None\n",
      "3     [{'factLabel': 'Type', 'factValue': 'Single Fa...\n",
      "4     [{'factLabel': 'Type', 'factValue': 'Single Fa...\n",
      "5     [{'factLabel': 'Type', 'factValue': 'Townhouse...\n",
      "6     [{'factLabel': 'Type', 'factValue': 'Single Fa...\n",
      "7     [{'factLabel': 'Type', 'factValue': 'Single Fa...\n",
      "8     [{'factLabel': 'Type', 'factValue': 'Townhouse...\n",
      "9     [{'factLabel': 'Type', 'factValue': 'Townhouse...\n",
      "10    [{'factLabel': 'Type', 'factValue': 'Single Fa...\n",
      "11    [{'factLabel': 'Type', 'factValue': 'Single Fa...\n",
      "12    [{'factLabel': 'Type', 'factValue': 'Townhouse...\n",
      "13    [{'factLabel': 'Type', 'factValue': 'Single Fa...\n",
      "14    [{'factLabel': 'Type', 'factValue': 'Single Fa...\n",
      "15    [{'factLabel': 'Type', 'factValue': 'Single Fa...\n",
      "16                                                 None\n",
      "17    [{'factLabel': 'Type', 'factValue': 'Single Fa...\n",
      "18                                                 None\n",
      "19    [{'factLabel': 'Type', 'factValue': 'Multi Fam...\n",
      "Name: resoFacts.atAGlanceFacts, dtype: object\n"
     ]
    }
   ],
   "source": [
    "print(flattened_property_data_df['resoFacts.atAGlanceFacts'])"
   ]
  },
  {
   "cell_type": "code",
   "execution_count": 251,
   "metadata": {},
   "outputs": [
    {
     "name": "stdout",
     "output_type": "stream",
     "text": [
      "   Offer Review Date          Lot Days on Zillow                   Parking   \n",
      "0               None   4,330 sqft        54 Days   1 Attached Garage space  \\\n",
      "1               None   8,001 sqft              0  2 Attached Garage spaces   \n",
      "2               None          NaN            NaN                       NaN   \n",
      "3               None   1.14 Acres        63 Days  3 Attached Garage spaces   \n",
      "4               None   8,702 sqft         7 Days                      None   \n",
      "5               None          NaN       231 Days                      None   \n",
      "6               None   0.31 Acres        21 Days  2 Attached Garage spaces   \n",
      "7               None  10,454 sqft       376 Days  3 Attached Garage spaces   \n",
      "8               None          NaN              0   1 Attached Garage space   \n",
      "9               None   6,534 sqft       174 Days  2 Attached Garage spaces   \n",
      "10              None   0.31 Acres        91 Days  3 Attached Garage spaces   \n",
      "11              None   0.31 Acres       160 Days  3 Attached Garage spaces   \n",
      "12              None          NaN       231 Days   1 Attached Garage space   \n",
      "13              None  10,016 sqft         6 Days  2 Attached Garage spaces   \n",
      "14              None   6,858 sqft         7 Days                      None   \n",
      "15              None   0.30 Acres        33 Days   1 Attached Garage space   \n",
      "16              None          NaN            NaN                       NaN   \n",
      "17              None  10,018 sqft       112 Days  3 Attached Garage spaces   \n",
      "18              None          NaN            NaN                       NaN   \n",
      "19              None          NaN        48 Days            1 Garage space   \n",
      "\n",
      "   Year Built                       Heating                     Type   \n",
      "0        1958                    Forced Air  Single Family Residence  \\\n",
      "1        2002  Forced Air, Gas, Natural Gas  Single Family Residence   \n",
      "2         NaN                           NaN                      NaN   \n",
      "3        2010                    Geothermal  Single Family Residence   \n",
      "4        1895       Forced Air, Natural Gas  Single Family Residence   \n",
      "5        1986          Electric, Forced Air   Townhouse, Condominium   \n",
      "6        1987       Forced Air, Natural Gas  Single Family Residence   \n",
      "7        2022       Forced Air, Natural Gas  Single Family Residence   \n",
      "8        1997       Forced Air, Natural Gas   Townhouse, Condominium   \n",
      "9        2022       Forced Air, Natural Gas                Townhouse   \n",
      "10       2022       Forced Air, Natural Gas  Single Family Residence   \n",
      "11       2021       Forced Air, Natural Gas  Single Family Residence   \n",
      "12       1986       Forced Air, Natural Gas   Townhouse, Condominium   \n",
      "13       1975       Forced Air, Natural Gas  Single Family Residence   \n",
      "14       1915       Forced Air, Natural Gas  Single Family Residence   \n",
      "15       1965       Forced Air, Natural Gas  Single Family Residence   \n",
      "16        NaN                           NaN                      NaN   \n",
      "17       2020       Forced Air, Natural Gas  Single Family Residence   \n",
      "18        NaN                           NaN                      NaN   \n",
      "19       1947               Forced Air, Gas             Multi Family   \n",
      "\n",
      "           Cooling             HOA Buyers Agency Fee Price/sqft  \n",
      "0      Central Air             NaN              3.00       $171  \n",
      "1      Central Air             NaN            3.0000       $200  \n",
      "2              NaN             NaN               NaN        NaN  \n",
      "3      Central Air    $175 monthly              3.00       $418  \n",
      "4             None             NaN              2.50       $448  \n",
      "5      Central Air  $1,728 monthly              2.00       $109  \n",
      "6      Central Air    $50 annually              3.00       $307  \n",
      "7      Central Air   $200 annually              2.50       $308  \n",
      "8      Central Air  $2,231 monthly              2.00       $248  \n",
      "9      Central Air    $202 monthly              2.50       $275  \n",
      "10     Central Air   $200 annually              2.50       $301  \n",
      "11     Central Air    $260 monthly              2.50       $219  \n",
      "12     Central Air  $1,715 monthly              2.00       $183  \n",
      "13     Central Air             NaN              3.00       $140  \n",
      "14     Central Air             NaN              2.50       $583  \n",
      "15     Central Air             NaN              3.00       $260  \n",
      "16             NaN             NaN               NaN        NaN  \n",
      "17     Central Air   $360 annually              2.50       $280  \n",
      "18             NaN             NaN               NaN        NaN  \n",
      "19  Window Unit(s)             NaN            3.0000       $114  \n"
     ]
    }
   ],
   "source": [
    "atAGlanceFacts = flattened_property_data_df['resoFacts.atAGlanceFacts']\n",
    "\n",
    "# Find unique factLabels to create the columns\n",
    "fact_labels = set()\n",
    "for row in atAGlanceFacts:\n",
    "    if row:\n",
    "        for fact in row:\n",
    "            fact_labels.add(fact['factLabel'])\n",
    "\n",
    "fact_labels = list(fact_labels)\n",
    "facts_df = pd.DataFrame(columns=fact_labels)\n",
    "\n",
    "for idx, row in atAGlanceFacts.items():\n",
    "    if row:\n",
    "        fact_dict = {}\n",
    "        for fact in row:\n",
    "            fact_label = fact['factLabel']\n",
    "            fact_value = fact['factValue']\n",
    "            fact_dict[fact_label] = fact_value\n",
    "        facts_df = pd.concat([facts_df, pd.DataFrame(fact_dict, index=[idx])])\n",
    "    else:\n",
    "        facts_df = pd.concat([facts_df, pd.DataFrame({}, index=[idx])])\n",
    "\n",
    "print(facts_df)"
   ]
  },
  {
   "cell_type": "code",
   "execution_count": 252,
   "metadata": {},
   "outputs": [
    {
     "name": "stdout",
     "output_type": "stream",
     "text": [
      "0                                          Full\n",
      "1                                      Finished\n",
      "2                                          None\n",
      "3                                Full,Sump Pump\n",
      "4                       Full,Partial,Unfinished\n",
      "5                                          None\n",
      "6                               Walk-Out Access\n",
      "7                     Full,Unfinished,Sump Pump\n",
      "8                                Full,Sump Pump\n",
      "9     Full,Unfinished,Walk-Out Access,Sump Pump\n",
      "10           Daylight,Full,Unfinished,Sump Pump\n",
      "11                               None,Sump Pump\n",
      "12                             None,Crawl Space\n",
      "13                               Full,Sump Pump\n",
      "14                                         Full\n",
      "15                                         Full\n",
      "16                                         None\n",
      "17                    Full,Unfinished,Sump Pump\n",
      "18                                         None\n",
      "19                   Unfinished,Walk-Out Access\n",
      "Name: resoFacts.basement, dtype: object\n"
     ]
    }
   ],
   "source": [
    "print(flattened_property_data_df['resoFacts.basement'])"
   ]
  },
  {
   "cell_type": "code",
   "execution_count": 253,
   "metadata": {},
   "outputs": [],
   "source": [
    "facts_df['GarageType'] = facts_df['Parking'].apply(\n",
    "    lambda x: \"NA\" if pd.isnull(x) or x == \"None\" or x == \"NaN\" else 'Attchd' if \"Attached\" in x else \"BuiltIn\"\n",
    ")"
   ]
  },
  {
   "cell_type": "code",
   "execution_count": 254,
   "metadata": {},
   "outputs": [],
   "source": [
    "facts_df = facts_df.drop(columns=[\n",
    "    'Type', 'Heating', 'Cooling', 'Parking', 'HOA', 'Lot', 'Days on Zillow', 'Price/sqft', 'Buyers Agency Fee', 'Offer Review Date'\n",
    "])"
   ]
  },
  {
   "cell_type": "code",
   "execution_count": 255,
   "metadata": {},
   "outputs": [],
   "source": [
    "flattened_property_data_df = pd.concat([flattened_property_data_df, facts_df], axis=1)"
   ]
  },
  {
   "cell_type": "code",
   "execution_count": 256,
   "metadata": {},
   "outputs": [
    {
     "name": "stdout",
     "output_type": "stream",
     "text": [
      "0     1Story\n",
      "1     2Story\n",
      "2       None\n",
      "3     1Story\n",
      "4     2Story\n",
      "5     1Story\n",
      "6     1Story\n",
      "7     1Story\n",
      "8     1Story\n",
      "9     1Story\n",
      "10    1Story\n",
      "11    1Story\n",
      "12    1Story\n",
      "13    1Story\n",
      "14    2Story\n",
      "15      None\n",
      "16      None\n",
      "17    1Story\n",
      "18      None\n",
      "19    2Story\n",
      "Name: numStories, dtype: object\n"
     ]
    }
   ],
   "source": [
    "flattened_property_data_df['numStories'] = flattened_property_data_df['resoFacts.stories'].apply(lambda x: \"2Story\" if x == 2 else \"1Story\" if x == 1 else None)\n",
    "flattened_property_data_df['BldgType'] = flattened_property_data_df['homeType'].apply(\n",
    "    lambda x: '1Fam' if x == \"SINGLE_FAMILY\" else \"TwnhsE\" if x == 'CONDO' or x == 'TOWNHOUSE' else \"2fmCon\" if x == \"MULTI_FAMILY\" else \"LOT\"\n",
    ")\n",
    "\n",
    "print(flattened_property_data_df['numStories'])\n"
   ]
  },
  {
   "cell_type": "code",
   "execution_count": 257,
   "metadata": {},
   "outputs": [],
   "source": [
    "flattened_property_data_df['FullBath'] = flattened_property_data_df['resoFacts.bathroomsFull'].fillna(0) + flattened_property_data_df['resoFacts.bathroomsThreeQuarter'].fillna(0)\n",
    "flattened_property_data_df['HalfBath'] = flattened_property_data_df['resoFacts.bathroomsHalf'].fillna(0) + flattened_property_data_df['resoFacts.bathroomsOneQuarter'].fillna(0) + flattened_property_data_df['resoFacts.bathroomsPartial'].fillna(0)\n",
    "flattened_property_data_df['BedroomAbvGr'] = flattened_property_data_df['resoFacts.bedrooms'].fillna(0)"
   ]
  },
  {
   "cell_type": "code",
   "execution_count": 258,
   "metadata": {},
   "outputs": [],
   "source": [
    "flattened_property_data_df = flattened_property_data_df.drop(columns=[\n",
    "    'livingAreaUnits', 'lotAreaUnits', 'neighborhoodRegion', 'neighborhoodRegion.name', \n",
    "    'resoFacts.aboveGradeFinishedArea','resoFacts.architecturalStyle', 'resoFacts.accessibilityFeatures', 'resoFacts.additionalParcelsDescription',\n",
    "    'resoFacts.allowedPets', 'resoFacts.appliances', 'resoFacts.associationAmenities', 'resoFacts.associationFee', 'resoFacts.associationFee2',\n",
    "    'resoFacts.associationFeeIncludes', 'resoFacts.associationName', 'resoFacts.associationName2', 'resoFacts.associationPhone',\n",
    "    'resoFacts.associationPhone2', 'resoFacts.atAGlanceFacts', 'resoFacts.attic', 'resoFacts.availabilityDate', 'resoFacts.basement', 'resoFacts.bathrooms', \n",
    "    'resoFacts.bathroomsFull', 'resoFacts.bathroomsHalf', 'resoFacts.bathroomsOneQuarter', 'resoFacts.bathroomsPartial', 'resoFacts.bathroomsThreeQuarter', \n",
    "    'resoFacts.basementYN', 'resoFacts.bedrooms', \n",
    "])"
   ]
  },
  {
   "cell_type": "code",
   "execution_count": 259,
   "metadata": {},
   "outputs": [],
   "source": [
    "reso_facts_df = flattened_property_data_df.filter(regex=r'^resoFacts\\.', axis=1)"
   ]
  },
  {
   "cell_type": "code",
   "execution_count": 260,
   "metadata": {},
   "outputs": [],
   "source": [
    "flattened_property_data_df['Fireplaces'] = reso_facts_df['resoFacts.fireplaces'].fillna(0)"
   ]
  },
  {
   "cell_type": "code",
   "execution_count": 261,
   "metadata": {},
   "outputs": [],
   "source": [
    "flattened_property_data_df['Foundation'] = reso_facts_df['resoFacts.foundationDetails'].apply(\n",
    "    lambda x: 'Slab' if 'Slab' in x else 'PConc' if \"Poured\" in x else \"BrkTil\" if \"Brick/Mortar\" in x else \"CBlock\" if \"Block\" in x else None\n",
    ")"
   ]
  },
  {
   "cell_type": "code",
   "execution_count": 262,
   "metadata": {},
   "outputs": [
    {
     "data": {
      "text/plain": [
       "0         Residential\n",
       "1                None\n",
       "2                None\n",
       "3                 Res\n",
       "4     Residential Med\n",
       "5               F-PRD\n",
       "6                  RL\n",
       "7         Residential\n",
       "8               F-PRD\n",
       "9     FS-RL-Suburbn R\n",
       "10        Residential\n",
       "11    Planned Residen\n",
       "12              F-PRD\n",
       "13    Residential Low\n",
       "14    Residential Low\n",
       "15                Res\n",
       "16    Suburban Res Lo\n",
       "17              FS-RL\n",
       "18                  R\n",
       "19               None\n",
       "Name: resoFacts.zoningDescription, dtype: object"
      ]
     },
     "execution_count": 262,
     "metadata": {},
     "output_type": "execute_result"
    }
   ],
   "source": [
    "reso_facts_df['resoFacts.zoningDescription']"
   ]
  },
  {
   "cell_type": "code",
   "execution_count": 263,
   "metadata": {},
   "outputs": [],
   "source": [
    "flattened_property_data_df['PoolArea'] = 0.0\n",
    "flattened_property_data_df['PoolQC'] = 'NA'\n",
    "flattened_property_data_df['Fence'] = 'NA'"
   ]
  },
  {
   "cell_type": "code",
   "execution_count": 264,
   "metadata": {},
   "outputs": [
    {
     "name": "stdout",
     "output_type": "stream",
     "text": [
      "0     None\n",
      "1     None\n",
      "2     None\n",
      "3     None\n",
      "4     None\n",
      "5     None\n",
      "6     None\n",
      "7     None\n",
      "8     None\n",
      "9     None\n",
      "10    None\n",
      "11    None\n",
      "12    None\n",
      "13    None\n",
      "14    None\n",
      "15    None\n",
      "16    None\n",
      "17    None\n",
      "18    None\n",
      "19    None\n",
      "Name: address.community, dtype: object\n"
     ]
    }
   ],
   "source": [
    "print(non_reso_facts_df['address.community'])"
   ]
  },
  {
   "cell_type": "code",
   "execution_count": 276,
   "metadata": {},
   "outputs": [
    {
     "name": "stdout",
     "output_type": "stream",
     "text": [
      "   GrLivArea  LotArea  SalePrice YearBuilt GarageType BldgType  FullBath   \n",
      "0     1404.0     4330     239900      1958     Attchd     1Fam       2.0  \\\n",
      "1     2021.0     8001     405000      2002     Attchd     1Fam       3.0   \n",
      "2        NaN    87120     228000       NaN         NA      LOT       0.0   \n",
      "3     2215.0    49658     924900      2010     Attchd     1Fam       3.0   \n",
      "4     1050.0     8702     470000      1895         NA     1Fam       1.0   \n",
      "\n",
      "   HalfBath  BedroomAbvGr  Fireplaces Foundation  PoolArea PoolQC Fence  \n",
      "0       1.0           6.0         0.0     BrkTil       0.0     NA    NA  \n",
      "1       1.0           4.0         1.0      PConc       0.0     NA    NA  \n",
      "2       0.0           0.0         0.0       None       0.0     NA    NA  \n",
      "3       1.0           4.0         3.0     CBlock       0.0     NA    NA  \n",
      "4       0.0           5.0         0.0     BrkTil       0.0     NA    NA  \n"
     ]
    },
    {
     "name": "stderr",
     "output_type": "stream",
     "text": [
      "C:\\Users\\chenb\\AppData\\Local\\Temp\\ipykernel_30960\\2618653028.py:2: SettingWithCopyWarning: \n",
      "A value is trying to be set on a copy of a slice from a DataFrame\n",
      "\n",
      "See the caveats in the documentation: https://pandas.pydata.org/pandas-docs/stable/user_guide/indexing.html#returning-a-view-versus-a-copy\n",
      "  non_reso_facts_df.drop(columns=['homeType', 'county', 'numStories', 'hiResImageLink'], inplace=True)\n",
      "C:\\Users\\chenb\\AppData\\Local\\Temp\\ipykernel_30960\\2618653028.py:3: SettingWithCopyWarning: \n",
      "A value is trying to be set on a copy of a slice from a DataFrame\n",
      "\n",
      "See the caveats in the documentation: https://pandas.pydata.org/pandas-docs/stable/user_guide/indexing.html#returning-a-view-versus-a-copy\n",
      "  non_reso_facts_df.rename(columns={'livingArea': 'GrLivArea', 'lotSize': 'LotArea', 'price': 'SalePrice', 'Year Built': 'YearBuilt'}, inplace=True)\n"
     ]
    }
   ],
   "source": [
    "non_reso_facts_df = flattened_property_data_df.filter(regex=r'^(?!resoFacts\\.)', axis=1)\n",
    "non_reso_facts_df.drop(columns=['homeType', 'county', 'numStories', 'hiResImageLink'], inplace=True)\n",
    "non_reso_facts_df.rename(columns={'livingArea': 'GrLivArea', 'lotSize': 'LotArea', 'price': 'SalePrice', 'Year Built': 'YearBuilt'}, inplace=True)\n",
    "# Display the non-resoFacts DataFrame\n",
    "print(non_reso_facts_df.head())"
   ]
  },
  {
   "cell_type": "code",
   "execution_count": 277,
   "metadata": {},
   "outputs": [
    {
     "name": "stdout",
     "output_type": "stream",
     "text": [
      "Index(['GrLivArea', 'LotArea', 'SalePrice', 'YearBuilt', 'GarageType',\n",
      "       'BldgType', 'FullBath', 'HalfBath', 'BedroomAbvGr', 'Fireplaces',\n",
      "       'Foundation', 'PoolArea', 'PoolQC', 'Fence'],\n",
      "      dtype='object')\n"
     ]
    }
   ],
   "source": [
    "print(non_reso_facts_df.columns)"
   ]
  }
 ],
 "metadata": {
  "kernelspec": {
   "display_name": "Python 3",
   "language": "python",
   "name": "python3"
  },
  "language_info": {
   "codemirror_mode": {
    "name": "ipython",
    "version": 3
   },
   "file_extension": ".py",
   "mimetype": "text/x-python",
   "name": "python",
   "nbconvert_exporter": "python",
   "pygments_lexer": "ipython3",
   "version": "3.11.1"
  },
  "orig_nbformat": 4
 },
 "nbformat": 4,
 "nbformat_minor": 2
}
