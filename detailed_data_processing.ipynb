{
 "cells": [
  {
   "cell_type": "code",
   "execution_count": 64,
   "metadata": {},
   "outputs": [],
   "source": [
    "import pandas as pd\n",
    "from pandas import json_normalize"
   ]
  },
  {
   "cell_type": "code",
   "execution_count": 65,
   "metadata": {},
   "outputs": [],
   "source": [
    "# Load the JSON file as a DataFrame\n",
    "property_data_df = pd.read_json(\"Data/random_property_data.json\")"
   ]
  },
  {
   "cell_type": "code",
   "execution_count": 66,
   "metadata": {},
   "outputs": [
    {
     "name": "stdout",
     "output_type": "stream",
     "text": [
      "Index(['abbreviatedAddress', 'address', 'apartmentsForRentInZipcodeSearchUrl',\n",
      "       'attributionInfo', 'bathrooms', 'bedrooms', 'big', 'boroughId',\n",
      "       'boroughSearchUrl', 'brokerId',\n",
      "       ...\n",
      "       'zestimateHighPercent', 'zestimateLowPercent', 'zillowOfferMarket',\n",
      "       'zipPlusFour', 'zipcode', 'zipcodeSearchUrl', 'zoContactSubtitle',\n",
      "       'zoMarketName', 'zoResaleStartAnOfferEnabled', 'zpid'],\n",
      "      dtype='object', length=212)\n"
     ]
    }
   ],
   "source": [
    "print(property_data_df.columns)"
   ]
  },
  {
   "cell_type": "code",
   "execution_count": 67,
   "metadata": {},
   "outputs": [
    {
     "name": "stdout",
     "output_type": "stream",
     "text": [
      "                                             address       homeType   \n",
      "0  {'city': 'Ames', 'community': None, 'neighborh...  SINGLE_FAMILY  \\\n",
      "1  {'city': 'Ames', 'community': None, 'neighborh...  SINGLE_FAMILY   \n",
      "2  {'city': 'Ames', 'community': None, 'neighborh...            LOT   \n",
      "3  {'city': 'Ames', 'community': None, 'neighborh...  SINGLE_FAMILY   \n",
      "4  {'city': 'Ames', 'community': None, 'neighborh...  SINGLE_FAMILY   \n",
      "\n",
      "   livingArea livingAreaUnits  lotSize lotAreaUnits   \n",
      "0      1404.0     Square Feet     4330  Square Feet  \\\n",
      "1      2021.0     Square Feet     8001  Square Feet   \n",
      "2         NaN            None    87120        Acres   \n",
      "3      2215.0     Square Feet    49658        Acres   \n",
      "4      1050.0     Square Feet     8702  Square Feet   \n",
      "\n",
      "                   neighborhoodRegion   \n",
      "0           {'name': 'Oak-Riverside'}  \\\n",
      "1        {'name': 'Somerset Village'}   \n",
      "2                                None   \n",
      "3                                None   \n",
      "4  {'name': 'College Creek/Old Ames'}   \n",
      "\n",
      "                                           resoFacts   price   \n",
      "0  {'aboveGradeFinishedArea': '1,404', 'accessibi...  239900  \\\n",
      "1  {'aboveGradeFinishedArea': None, 'accessibilit...  405000   \n",
      "2  {'aboveGradeFinishedArea': None, 'accessibilit...  228000   \n",
      "3  {'aboveGradeFinishedArea': '2,215', 'accessibi...  924900   \n",
      "4  {'aboveGradeFinishedArea': '2,543', 'accessibi...  470000   \n",
      "\n",
      "                                      hiResImageLink        zpid  \n",
      "0  https://photos.zillowstatic.com/fp/df0bd099740...   115842056  \n",
      "1  https://photos.zillowstatic.com/fp/4f94778f62c...    93952548  \n",
      "2  https://photos.zillowstatic.com/fp/17cec68ca0e...  2090796515  \n",
      "3  https://photos.zillowstatic.com/fp/17839d6b2ae...   117852871  \n",
      "4  https://photos.zillowstatic.com/fp/737c4d70a7b...   115844692  \n"
     ]
    }
   ],
   "source": [
    "desired_columns = [\n",
    "    'address', 'homeType', 'livingArea', 'livingAreaUnits', 'lotSize', 'lotAreaUnits',\n",
    "    'neighborhoodRegion', 'resoFacts', 'price', 'hiResImageLink', 'zpid'\n",
    "]\n",
    "\n",
    "filtered_property_data_df = property_data_df[desired_columns]\n",
    "\n",
    "print(filtered_property_data_df.head())"
   ]
  },
  {
   "cell_type": "code",
   "execution_count": 68,
   "metadata": {},
   "outputs": [
    {
     "name": "stdout",
     "output_type": "stream",
     "text": [
      "        homeType  livingArea livingAreaUnits  lotSize lotAreaUnits   price   \n",
      "0  SINGLE_FAMILY      1404.0     Square Feet     4330  Square Feet  239900  \\\n",
      "1  SINGLE_FAMILY      2021.0     Square Feet     8001  Square Feet  405000   \n",
      "2            LOT         NaN            None    87120        Acres  228000   \n",
      "3  SINGLE_FAMILY      2215.0     Square Feet    49658        Acres  924900   \n",
      "4  SINGLE_FAMILY      1050.0     Square Feet     8702  Square Feet  470000   \n",
      "\n",
      "                                      hiResImageLink        zpid address.city   \n",
      "0  https://photos.zillowstatic.com/fp/df0bd099740...   115842056         Ames  \\\n",
      "1  https://photos.zillowstatic.com/fp/4f94778f62c...    93952548         Ames   \n",
      "2  https://photos.zillowstatic.com/fp/17cec68ca0e...  2090796515         Ames   \n",
      "3  https://photos.zillowstatic.com/fp/17839d6b2ae...   117852871         Ames   \n",
      "4  https://photos.zillowstatic.com/fp/737c4d70a7b...   115844692         Ames   \n",
      "\n",
      "  address.community  ... resoFacts.waterView resoFacts.waterViewYN   \n",
      "0              None  ...                None                  None  \\\n",
      "1              None  ...                None                  None   \n",
      "2              None  ...                None                  None   \n",
      "3              None  ...                None                  None   \n",
      "4              None  ...                None                  None   \n",
      "\n",
      "  resoFacts.waterfrontFeatures resoFacts.windowFeatures resoFacts.woodedArea   \n",
      "0                         None                     None                  NaN  \\\n",
      "1                         None                     None                  NaN   \n",
      "2                         None                     None                  NaN   \n",
      "3                         None                     None                  NaN   \n",
      "4                         None                     None                  NaN   \n",
      "\n",
      "  resoFacts.yearBuilt resoFacts.yearBuiltEffective resoFacts.zoning   \n",
      "0              1958.0                         None             None  \\\n",
      "1              2002.0                         None             F-VR   \n",
      "2                 NaN                         None             Comm   \n",
      "3              2010.0                         None             None   \n",
      "4              1895.0                         None             None   \n",
      "\n",
      "  resoFacts.zoningDescription neighborhoodRegion  \n",
      "0                 Residential                NaN  \n",
      "1                        None                NaN  \n",
      "2                        None                NaN  \n",
      "3                         Res                NaN  \n",
      "4             Residential Med                NaN  \n",
      "\n",
      "[5 rows x 196 columns]\n"
     ]
    }
   ],
   "source": [
    "# Flatten the nested data in the DataFrame\n",
    "flattened_property_data_df = json_normalize(filtered_property_data_df.to_dict(orient=\"records\"))\n",
    "print(flattened_property_data_df.head())"
   ]
  },
  {
   "cell_type": "code",
   "execution_count": 69,
   "metadata": {},
   "outputs": [
    {
     "name": "stdout",
     "output_type": "stream",
     "text": [
      "0     [{'factLabel': 'Type', 'factValue': 'Single Fa...\n",
      "1     [{'factLabel': 'Type', 'factValue': 'Single Fa...\n",
      "2                                                  None\n",
      "3     [{'factLabel': 'Type', 'factValue': 'Single Fa...\n",
      "4     [{'factLabel': 'Type', 'factValue': 'Single Fa...\n",
      "5     [{'factLabel': 'Type', 'factValue': 'Townhouse...\n",
      "6     [{'factLabel': 'Type', 'factValue': 'Single Fa...\n",
      "7     [{'factLabel': 'Type', 'factValue': 'Single Fa...\n",
      "8     [{'factLabel': 'Type', 'factValue': 'Townhouse...\n",
      "9     [{'factLabel': 'Type', 'factValue': 'Townhouse...\n",
      "10    [{'factLabel': 'Type', 'factValue': 'Single Fa...\n",
      "11    [{'factLabel': 'Type', 'factValue': 'Single Fa...\n",
      "12    [{'factLabel': 'Type', 'factValue': 'Townhouse...\n",
      "13    [{'factLabel': 'Type', 'factValue': 'Single Fa...\n",
      "14    [{'factLabel': 'Type', 'factValue': 'Single Fa...\n",
      "15    [{'factLabel': 'Type', 'factValue': 'Single Fa...\n",
      "16                                                 None\n",
      "17    [{'factLabel': 'Type', 'factValue': 'Single Fa...\n",
      "18                                                 None\n",
      "19    [{'factLabel': 'Type', 'factValue': 'Multi Fam...\n",
      "Name: resoFacts.atAGlanceFacts, dtype: object\n"
     ]
    }
   ],
   "source": [
    "print(flattened_property_data_df['resoFacts.atAGlanceFacts'])"
   ]
  },
  {
   "cell_type": "code",
   "execution_count": 70,
   "metadata": {},
   "outputs": [
    {
     "name": "stdout",
     "output_type": "stream",
     "text": [
      "               HOA Year Built Offer Review Date                   Parking   \n",
      "0              NaN       1958              None   1 Attached Garage space  \\\n",
      "1              NaN       2002              None  2 Attached Garage spaces   \n",
      "2              NaN        NaN              None                       NaN   \n",
      "3     $175 monthly       2010              None  3 Attached Garage spaces   \n",
      "4              NaN       1895              None                      None   \n",
      "5   $1,728 monthly       1986              None                      None   \n",
      "6     $50 annually       1987              None  2 Attached Garage spaces   \n",
      "7    $200 annually       2022              None  3 Attached Garage spaces   \n",
      "8   $2,231 monthly       1997              None   1 Attached Garage space   \n",
      "9     $202 monthly       2022              None  2 Attached Garage spaces   \n",
      "10   $200 annually       2022              None  3 Attached Garage spaces   \n",
      "11    $260 monthly       2021              None  3 Attached Garage spaces   \n",
      "12  $1,715 monthly       1986              None   1 Attached Garage space   \n",
      "13             NaN       1975              None  2 Attached Garage spaces   \n",
      "14             NaN       1915              None                      None   \n",
      "15             NaN       1965              None   1 Attached Garage space   \n",
      "16             NaN        NaN              None                       NaN   \n",
      "17   $360 annually       2020              None  3 Attached Garage spaces   \n",
      "18             NaN        NaN              None                       NaN   \n",
      "19             NaN       1947              None            1 Garage space   \n",
      "\n",
      "                         Heating         Cooling          Lot   \n",
      "0                     Forced Air     Central Air   4,330 sqft  \\\n",
      "1   Forced Air, Gas, Natural Gas     Central Air   8,001 sqft   \n",
      "2                            NaN             NaN          NaN   \n",
      "3                     Geothermal     Central Air   1.14 Acres   \n",
      "4        Forced Air, Natural Gas            None   8,702 sqft   \n",
      "5           Electric, Forced Air     Central Air          NaN   \n",
      "6        Forced Air, Natural Gas     Central Air   0.31 Acres   \n",
      "7        Forced Air, Natural Gas     Central Air  10,454 sqft   \n",
      "8        Forced Air, Natural Gas     Central Air          NaN   \n",
      "9        Forced Air, Natural Gas     Central Air   6,534 sqft   \n",
      "10       Forced Air, Natural Gas     Central Air   0.31 Acres   \n",
      "11       Forced Air, Natural Gas     Central Air   0.31 Acres   \n",
      "12       Forced Air, Natural Gas     Central Air          NaN   \n",
      "13       Forced Air, Natural Gas     Central Air  10,016 sqft   \n",
      "14       Forced Air, Natural Gas     Central Air   6,858 sqft   \n",
      "15       Forced Air, Natural Gas     Central Air   0.30 Acres   \n",
      "16                           NaN             NaN          NaN   \n",
      "17       Forced Air, Natural Gas     Central Air  10,018 sqft   \n",
      "18                           NaN             NaN          NaN   \n",
      "19               Forced Air, Gas  Window Unit(s)          NaN   \n",
      "\n",
      "   Buyers Agency Fee Price/sqft                     Type Days on Zillow  \n",
      "0               3.00       $171  Single Family Residence        54 Days  \n",
      "1             3.0000       $200  Single Family Residence              0  \n",
      "2                NaN        NaN                      NaN            NaN  \n",
      "3               3.00       $418  Single Family Residence        63 Days  \n",
      "4               2.50       $448  Single Family Residence         7 Days  \n",
      "5               2.00       $109   Townhouse, Condominium       231 Days  \n",
      "6               3.00       $307  Single Family Residence        21 Days  \n",
      "7               2.50       $308  Single Family Residence       376 Days  \n",
      "8               2.00       $248   Townhouse, Condominium              0  \n",
      "9               2.50       $275                Townhouse       174 Days  \n",
      "10              2.50       $301  Single Family Residence        91 Days  \n",
      "11              2.50       $219  Single Family Residence       160 Days  \n",
      "12              2.00       $183   Townhouse, Condominium       231 Days  \n",
      "13              3.00       $140  Single Family Residence         6 Days  \n",
      "14              2.50       $583  Single Family Residence         7 Days  \n",
      "15              3.00       $260  Single Family Residence        33 Days  \n",
      "16               NaN        NaN                      NaN            NaN  \n",
      "17              2.50       $280  Single Family Residence       112 Days  \n",
      "18               NaN        NaN                      NaN            NaN  \n",
      "19            3.0000       $114             Multi Family        48 Days  \n"
     ]
    }
   ],
   "source": [
    "atAGlanceFacts = flattened_property_data_df['resoFacts.atAGlanceFacts']\n",
    "\n",
    "# Find unique factLabels to create the columns\n",
    "fact_labels = set()\n",
    "for row in atAGlanceFacts:\n",
    "    if row:\n",
    "        for fact in row:\n",
    "            fact_labels.add(fact['factLabel'])\n",
    "\n",
    "fact_labels = list(fact_labels)\n",
    "facts_df = pd.DataFrame(columns=fact_labels)\n",
    "\n",
    "for idx, row in atAGlanceFacts.items():\n",
    "    if row:\n",
    "        fact_dict = {}\n",
    "        for fact in row:\n",
    "            fact_label = fact['factLabel']\n",
    "            fact_value = fact['factValue']\n",
    "            fact_dict[fact_label] = fact_value\n",
    "        facts_df = pd.concat([facts_df, pd.DataFrame(fact_dict, index=[idx])])\n",
    "    else:\n",
    "        facts_df = pd.concat([facts_df, pd.DataFrame({}, index=[idx])])\n",
    "\n",
    "print(facts_df)"
   ]
  },
  {
   "cell_type": "code",
   "execution_count": 71,
   "metadata": {},
   "outputs": [
    {
     "name": "stdout",
     "output_type": "stream",
     "text": [
      "0                                          Full\n",
      "1                                      Finished\n",
      "2                                          None\n",
      "3                                Full,Sump Pump\n",
      "4                       Full,Partial,Unfinished\n",
      "5                                          None\n",
      "6                               Walk-Out Access\n",
      "7                     Full,Unfinished,Sump Pump\n",
      "8                                Full,Sump Pump\n",
      "9     Full,Unfinished,Walk-Out Access,Sump Pump\n",
      "10           Daylight,Full,Unfinished,Sump Pump\n",
      "11                               None,Sump Pump\n",
      "12                             None,Crawl Space\n",
      "13                               Full,Sump Pump\n",
      "14                                         Full\n",
      "15                                         Full\n",
      "16                                         None\n",
      "17                    Full,Unfinished,Sump Pump\n",
      "18                                         None\n",
      "19                   Unfinished,Walk-Out Access\n",
      "Name: resoFacts.basement, dtype: object\n"
     ]
    }
   ],
   "source": [
    "print(flattened_property_data_df['resoFacts.basement'])"
   ]
  },
  {
   "cell_type": "code",
   "execution_count": 72,
   "metadata": {},
   "outputs": [],
   "source": [
    "facts_df['GarageType'] = facts_df['Parking'].apply(\n",
    "    lambda x: \"NA\" if pd.isnull(x) or x == \"None\" or x == \"NaN\" else 'Attchd' if \"Attached\" in x else \"BuiltIn\"\n",
    ")"
   ]
  },
  {
   "cell_type": "code",
   "execution_count": 73,
   "metadata": {},
   "outputs": [],
   "source": [
    "facts_df = facts_df.drop(columns=[\n",
    "    'Type', 'Heating', 'Cooling', 'Parking', 'HOA', 'Lot', 'Days on Zillow', 'Price/sqft', 'Buyers Agency Fee', 'Offer Review Date'\n",
    "])"
   ]
  },
  {
   "cell_type": "code",
   "execution_count": 74,
   "metadata": {},
   "outputs": [],
   "source": [
    "flattened_property_data_df = pd.concat([flattened_property_data_df, facts_df], axis=1)"
   ]
  },
  {
   "cell_type": "code",
   "execution_count": 75,
   "metadata": {},
   "outputs": [
    {
     "name": "stdout",
     "output_type": "stream",
     "text": [
      "0     1Story\n",
      "1     2Story\n",
      "2       None\n",
      "3     1Story\n",
      "4     2Story\n",
      "5     1Story\n",
      "6     1Story\n",
      "7     1Story\n",
      "8     1Story\n",
      "9     1Story\n",
      "10    1Story\n",
      "11    1Story\n",
      "12    1Story\n",
      "13    1Story\n",
      "14    2Story\n",
      "15      None\n",
      "16      None\n",
      "17    1Story\n",
      "18      None\n",
      "19    2Story\n",
      "Name: numStories, dtype: object\n"
     ]
    }
   ],
   "source": [
    "flattened_property_data_df['numStories'] = flattened_property_data_df['resoFacts.stories'].apply(lambda x: \"2Story\" if x == 2 else \"1Story\" if x == 1 else None)\n",
    "flattened_property_data_df['BldgType'] = flattened_property_data_df['homeType'].apply(\n",
    "    lambda x: '1Fam' if x == \"SINGLE_FAMILY\" else \"TwnhsE\" if x == 'CONDO' or x == 'TOWNHOUSE' else \"2fmCon\" if x == \"MULTI_FAMILY\" else None\n",
    ")\n"
   ]
  },
  {
   "cell_type": "code",
   "execution_count": 76,
   "metadata": {},
   "outputs": [],
   "source": [
    "flattened_property_data_df['FullBath'] = flattened_property_data_df['resoFacts.bathroomsFull'].fillna(0) + flattened_property_data_df['resoFacts.bathroomsThreeQuarter'].fillna(0)\n",
    "flattened_property_data_df['HalfBath'] = flattened_property_data_df['resoFacts.bathroomsHalf'].fillna(0) + flattened_property_data_df['resoFacts.bathroomsOneQuarter'].fillna(0) + flattened_property_data_df['resoFacts.bathroomsPartial'].fillna(0)\n",
    "flattened_property_data_df['BedroomAbvGr'] = flattened_property_data_df['resoFacts.bedrooms'].fillna(0)"
   ]
  },
  {
   "cell_type": "code",
   "execution_count": 77,
   "metadata": {},
   "outputs": [],
   "source": [
    "flattened_property_data_df = flattened_property_data_df.drop(columns=[\n",
    "    'livingAreaUnits', 'lotAreaUnits', 'neighborhoodRegion', 'neighborhoodRegion.name', \n",
    "    'resoFacts.aboveGradeFinishedArea','resoFacts.architecturalStyle', 'resoFacts.accessibilityFeatures', 'resoFacts.additionalParcelsDescription',\n",
    "    'resoFacts.allowedPets', 'resoFacts.appliances', 'resoFacts.associationAmenities', 'resoFacts.associationFee', 'resoFacts.associationFee2',\n",
    "    'resoFacts.associationFeeIncludes', 'resoFacts.associationName', 'resoFacts.associationName2', 'resoFacts.associationPhone',\n",
    "    'resoFacts.associationPhone2', 'resoFacts.atAGlanceFacts', 'resoFacts.attic', 'resoFacts.availabilityDate', 'resoFacts.basement', 'resoFacts.bathrooms', \n",
    "    'resoFacts.bathroomsFull', 'resoFacts.bathroomsHalf', 'resoFacts.bathroomsOneQuarter', 'resoFacts.bathroomsPartial', 'resoFacts.bathroomsThreeQuarter', \n",
    "    'resoFacts.basementYN', 'resoFacts.bedrooms', \n",
    "])"
   ]
  },
  {
   "cell_type": "code",
   "execution_count": 78,
   "metadata": {},
   "outputs": [],
   "source": [
    "reso_facts_df = flattened_property_data_df.filter(regex=r'^resoFacts\\.', axis=1)"
   ]
  },
  {
   "cell_type": "code",
   "execution_count": 79,
   "metadata": {},
   "outputs": [],
   "source": [
    "flattened_property_data_df['Fireplaces'] = reso_facts_df['resoFacts.fireplaces'].fillna(0)"
   ]
  },
  {
   "cell_type": "code",
   "execution_count": 80,
   "metadata": {},
   "outputs": [],
   "source": [
    "flattened_property_data_df['Foundation'] = reso_facts_df['resoFacts.foundationDetails'].apply(\n",
    "    lambda x: 'Slab' if 'Slab' in x else 'PConc' if \"Poured\" in x else \"BrkTil\" if \"Brick/Mortar\" in x else \"CBlock\" if \"Block\" in x else None\n",
    ")"
   ]
  },
  {
   "cell_type": "code",
   "execution_count": 81,
   "metadata": {},
   "outputs": [
    {
     "data": {
      "text/plain": [
       "0         Residential\n",
       "1                None\n",
       "2                None\n",
       "3                 Res\n",
       "4     Residential Med\n",
       "5               F-PRD\n",
       "6                  RL\n",
       "7         Residential\n",
       "8               F-PRD\n",
       "9     FS-RL-Suburbn R\n",
       "10        Residential\n",
       "11    Planned Residen\n",
       "12              F-PRD\n",
       "13    Residential Low\n",
       "14    Residential Low\n",
       "15                Res\n",
       "16    Suburban Res Lo\n",
       "17              FS-RL\n",
       "18                  R\n",
       "19               None\n",
       "Name: resoFacts.zoningDescription, dtype: object"
      ]
     },
     "execution_count": 81,
     "metadata": {},
     "output_type": "execute_result"
    }
   ],
   "source": [
    "reso_facts_df['resoFacts.zoningDescription']"
   ]
  },
  {
   "cell_type": "code",
   "execution_count": 82,
   "metadata": {},
   "outputs": [],
   "source": [
    "flattened_property_data_df['PoolArea'] = 0.0\n",
    "flattened_property_data_df['PoolQC'] = 'NA'\n",
    "flattened_property_data_df['Fence'] = 'NA'"
   ]
  },
  {
   "cell_type": "code",
   "execution_count": 83,
   "metadata": {},
   "outputs": [
    {
     "name": "stdout",
     "output_type": "stream",
     "text": [
      "   GrLivArea  LotArea  ListingPrice   \n",
      "0     1404.0     4330        239900  \\\n",
      "1     2021.0     8001        405000   \n",
      "2        NaN    87120        228000   \n",
      "3     2215.0    49658        924900   \n",
      "4     1050.0     8702        470000   \n",
      "\n",
      "                                      hiResImageLink        zpid address.city   \n",
      "0  https://photos.zillowstatic.com/fp/df0bd099740...   115842056         Ames  \\\n",
      "1  https://photos.zillowstatic.com/fp/4f94778f62c...    93952548         Ames   \n",
      "2  https://photos.zillowstatic.com/fp/17cec68ca0e...  2090796515         Ames   \n",
      "3  https://photos.zillowstatic.com/fp/17839d6b2ae...   117852871         Ames   \n",
      "4  https://photos.zillowstatic.com/fp/737c4d70a7b...   115844692         Ames   \n",
      "\n",
      "  address.community address.neighborhood address.state address.streetAddress   \n",
      "0              None                 None            IA     108 N Russell Ave  \\\n",
      "1              None                 None            IA      2739 Somerset Dr   \n",
      "2              None                 None            IA         2227 229th Pl   \n",
      "3              None                 None            IA         2329 163rd Pl   \n",
      "4              None                 None            IA      103 S Hyland Ave   \n",
      "\n",
      "   ... GarageType BldgType FullBath HalfBath BedroomAbvGr  Fireplaces   \n",
      "0  ...     Attchd     1Fam      2.0      1.0          6.0         0.0  \\\n",
      "1  ...     Attchd     1Fam      3.0      1.0          4.0         1.0   \n",
      "2  ...         NA     None      0.0      0.0          0.0         0.0   \n",
      "3  ...     Attchd     1Fam      3.0      1.0          4.0         3.0   \n",
      "4  ...         NA     1Fam      1.0      0.0          5.0         0.0   \n",
      "\n",
      "   Foundation  PoolArea  PoolQC Fence  \n",
      "0      BrkTil       0.0      NA    NA  \n",
      "1       PConc       0.0      NA    NA  \n",
      "2        None       0.0      NA    NA  \n",
      "3      CBlock       0.0      NA    NA  \n",
      "4      BrkTil       0.0      NA    NA  \n",
      "\n",
      "[5 rows x 23 columns]\n"
     ]
    },
    {
     "name": "stderr",
     "output_type": "stream",
     "text": [
      "C:\\Users\\chenb\\AppData\\Local\\Temp\\ipykernel_30784\\499274730.py:2: SettingWithCopyWarning: \n",
      "A value is trying to be set on a copy of a slice from a DataFrame\n",
      "\n",
      "See the caveats in the documentation: https://pandas.pydata.org/pandas-docs/stable/user_guide/indexing.html#returning-a-view-versus-a-copy\n",
      "  non_reso_facts_df.drop(columns=['homeType', 'numStories'], inplace=True)\n",
      "C:\\Users\\chenb\\AppData\\Local\\Temp\\ipykernel_30784\\499274730.py:3: SettingWithCopyWarning: \n",
      "A value is trying to be set on a copy of a slice from a DataFrame\n",
      "\n",
      "See the caveats in the documentation: https://pandas.pydata.org/pandas-docs/stable/user_guide/indexing.html#returning-a-view-versus-a-copy\n",
      "  non_reso_facts_df.rename(columns={'livingArea': 'GrLivArea', 'lotSize': 'LotArea', 'price': 'ListingPrice', 'Year Built': 'YearBuilt'}, inplace=True)\n"
     ]
    }
   ],
   "source": [
    "non_reso_facts_df = flattened_property_data_df.filter(regex=r'^(?!resoFacts\\.)', axis=1)\n",
    "non_reso_facts_df.drop(columns=['homeType', 'numStories'], inplace=True)\n",
    "non_reso_facts_df.rename(columns={'livingArea': 'GrLivArea', 'lotSize': 'LotArea', 'price': 'ListingPrice', 'Year Built': 'YearBuilt'}, inplace=True)\n",
    "# Display the non-resoFacts DataFrame\n",
    "print(non_reso_facts_df.head())"
   ]
  },
  {
   "cell_type": "code",
   "execution_count": 84,
   "metadata": {},
   "outputs": [
    {
     "name": "stdout",
     "output_type": "stream",
     "text": [
      "Index(['GrLivArea', 'LotArea', 'ListingPrice', 'hiResImageLink', 'zpid',\n",
      "       'address.city', 'address.community', 'address.neighborhood',\n",
      "       'address.state', 'address.streetAddress', 'address.subdivision',\n",
      "       'address.zipcode', 'YearBuilt', 'GarageType', 'BldgType', 'FullBath',\n",
      "       'HalfBath', 'BedroomAbvGr', 'Fireplaces', 'Foundation', 'PoolArea',\n",
      "       'PoolQC', 'Fence'],\n",
      "      dtype='object')\n"
     ]
    }
   ],
   "source": [
    "print(non_reso_facts_df.columns)"
   ]
  },
  {
   "cell_type": "markdown",
   "metadata": {},
   "source": []
  },
  {
   "cell_type": "code",
   "execution_count": 90,
   "metadata": {},
   "outputs": [],
   "source": [
    "df = non_reso_facts_df[non_reso_facts_df['BldgType'].notna()]"
   ]
  },
  {
   "cell_type": "code",
   "execution_count": 91,
   "metadata": {},
   "outputs": [
    {
     "name": "stdout",
     "output_type": "stream",
     "text": [
      "Data/ames_iowa_detailed_listings.csv\n"
     ]
    }
   ],
   "source": [
    "df.to_csv(\"Data/ames_iowa_detailed_listings.csv\", index=False)\n",
    "print(\"Data/ames_iowa_detailed_listings.csv\")"
   ]
  },
  {
   "cell_type": "code",
   "execution_count": 96,
   "metadata": {},
   "outputs": [],
   "source": [
    "import csv\n",
    "import json"
   ]
  },
  {
   "cell_type": "code",
   "execution_count": 98,
   "metadata": {},
   "outputs": [],
   "source": [
    "# create json for opensearch\n",
    "indexed_data = []\n",
    "\n",
    "for _, row in df.iterrows():\n",
    "    indexed_data.append({\n",
    "        'index': {\n",
    "            '_index': 'listings',\n",
    "            '_id': row['zpid']\n",
    "        }\n",
    "    })\n",
    "    indexed_data.append({\n",
    "        'zpid': row['zpid'],\n",
    "        'city': row['address.city'],\n",
    "        'state': row['address.state'],\n",
    "        'zipcode': row['address.zipcode'],\n",
    "        'GrLivArea': row['GrLivArea'],\n",
    "        'LotArea': row['LotArea'],\n",
    "        'ListingPrice': row['ListingPrice'],\n",
    "        'FullBath': row['FullBath'],\n",
    "        'HalfBath': row['HalfBath'],\n",
    "        'BedroomAbvGr': row['BedroomAbvGr']\n",
    "    })\n",
    "\n",
    "with open('Data/ames_iowa_listings.json', mode='w', encoding='utf-8') as json_file:\n",
    "    for item in indexed_data:\n",
    "        json.dump(item, json_file)\n",
    "        json_file.write('\\n')"
   ]
  }
 ],
 "metadata": {
  "kernelspec": {
   "display_name": "Python 3",
   "language": "python",
   "name": "python3"
  },
  "language_info": {
   "codemirror_mode": {
    "name": "ipython",
    "version": 3
   },
   "file_extension": ".py",
   "mimetype": "text/x-python",
   "name": "python",
   "nbconvert_exporter": "python",
   "pygments_lexer": "ipython3",
   "version": "3.11.1"
  },
  "orig_nbformat": 4
 },
 "nbformat": 4,
 "nbformat_minor": 2
}
